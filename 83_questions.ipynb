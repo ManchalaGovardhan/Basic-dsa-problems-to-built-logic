{
  "cells": [
    {
      "cell_type": "code",
      "execution_count": null,
      "metadata": {
        "id": "pH3W9gcdG--g"
      },
      "outputs": [],
      "source": [
        "#AREA OF TRIANGLE\n",
        "i=float(input('ener radius'))\n",
        "def area(a):\n",
        "     pi=3.14\n",
        "     area=pi*(a**2)\n",
        "     return area\n",
        "area(i)"
      ]
    },
    {
      "cell_type": "code",
      "execution_count": null,
      "metadata": {
        "colab": {
          "background_save": true
        },
        "id": "JQaca4OAHeKc"
      },
      "outputs": [],
      "source": [
        " #ASCII VALUE\n",
        " t=input('enter key ')\n",
        " def ascii_value(A):\n",
        "     value=ord('A')\n",
        "     return value\n",
        " ascii_value(t)"
      ]
    },
    {
      "cell_type": "code",
      "execution_count": null,
      "metadata": {
        "colab": {
          "background_save": true
        },
        "id": "26CZLG4lJcUX"
      },
      "outputs": [],
      "source": [
        " # celcius to fahrenheit\n",
        " a=float(input('enter celcius'))\n",
        "def fahrenheit(c):\n",
        "    f=c*(1.8)+32\n",
        "    return f\n",
        "fahrenheit(a)\n",
        "50"
      ]
    },
    {
      "cell_type": "code",
      "execution_count": null,
      "metadata": {
        "colab": {
          "background_save": true
        },
        "id": "snoONH_JNP0W"
      },
      "outputs": [],
      "source": [
        "#SWAPPING VALUE OF TWO VARIABLES\n",
        "a=input('enter first value')\n",
        "b=input('enter second value')\n",
        "def swap(a,b):\n",
        "    a,b=b,a\n",
        "    return a,b\n",
        "swap(a,b)"
      ]
    },
    {
      "cell_type": "code",
      "execution_count": null,
      "metadata": {
        "colab": {
          "background_save": true
        },
        "id": "8Yt8fLTHTz4y"
      },
      "outputs": [],
      "source": []
    },
    {
      "cell_type": "code",
      "execution_count": null,
      "metadata": {
        "colab": {
          "background_save": true
        },
        "id": "SRJ7RJeYT2Io"
      },
      "outputs": [],
      "source": [
        "#EVEN OR ODD\n",
        " a=int(input('enter first value'))\n",
        " def acheck(a):\n",
        "     if a%2==0:\n",
        "         print('even')\n",
        "     else:\n",
        "         print('odd')"
      ]
    },
    {
      "cell_type": "code",
      "execution_count": null,
      "metadata": {
        "colab": {
          "background_save": true
        },
        "id": "WMLMM82nVmuX"
      },
      "outputs": [],
      "source": [
        " #VOWEL OR CONSONANT\n",
        " a=input('enter alphabet')\n",
        " a=a.lower()\n",
        " def check(a):\n",
        "     if a in 'aeiou' :\n",
        "       print('vowel')\n",
        "     else:\n",
        "         print('consonant')\n",
        "\n",
        " if a.isalpha() and len(a)==1:\n",
        "     check(a)\n"
      ]
    },
    {
      "cell_type": "code",
      "execution_count": null,
      "metadata": {
        "colab": {
          "background_save": true
        },
        "id": "ZOpIvLBbVmk1"
      },
      "outputs": [],
      "source": [
        " #LARGEST OF 3 NUMBERS\n",
        "a=int(input('enter first value'))\n",
        "b=int(input('enter second value'))\n",
        "c=int(input('enter third value'))\n",
        "def larger(a,b,c):\n",
        "  if a>c and a>b:\n",
        "      print(a)\n",
        "  elif b>a and b>c:\n",
        "      print(b)\n",
        "  else:\n",
        "      print(c)\n",
        "larger(a,b,c)\n"
      ]
    },
    {
      "cell_type": "code",
      "execution_count": null,
      "metadata": {
        "colab": {
          "background_save": true
        },
        "id": "Yx7ZVm36b_Jq"
      },
      "outputs": [],
      "source": [
        " #LEAP YEAR OR NOT\n",
        " a=int(input('enter year'))\n",
        " def check(a):\n",
        "     if a%4==0:\n",
        "         print('leap year')\n",
        "     else:\n",
        "         Print('normal year')\n",
        " check(a)"
      ]
    },
    {
      "cell_type": "code",
      "execution_count": null,
      "metadata": {
        "colab": {
          "background_save": true
        },
        "id": "HaR00PEIrbMn"
      },
      "outputs": [],
      "source": [
        " a=int(input('enter value'))\n",
        " def check(a):\n",
        "     if a>0:\n",
        "         print('positive')\n",
        "     elif a<0:\n",
        "         print('negative')\n",
        "     else:\n",
        "         print('zero')\n",
        " check(a)"
      ]
    },
    {
      "cell_type": "code",
      "execution_count": null,
      "metadata": {
        "colab": {
          "background_save": true
        },
        "id": "y2XCR9Resmet"
      },
      "outputs": [],
      "source": [
        " # ROOT OF QUADRATIC\n",
        " import cmath\n",
        " a=int(input('enter value of a'))\n",
        " b=int(input('enter value of b'))\n",
        " c=int(input('enter value of c'))\n",
        " def root (a,b,c):\n",
        "     d=cmath.sqrt(b**2-4*a*c)\n",
        "     x1=(-b+d)/2*a\n",
        "     x2=(-b-d/2*a)\n",
        "     return x1,x2\n",
        " root(a,b,c)1\n",
        " if (a==0 ):\n",
        "     print('first value should not be zero in quadratic')\n",
        " else:\n",
        "     root(a,b,c)\n",
        " result=root(a,b,c)\n",
        " print(result[0],result[1])"
      ]
    },
    {
      "cell_type": "code",
      "execution_count": null,
      "metadata": {
        "colab": {
          "background_save": true
        },
        "id": "DqKk8RZFxeaP"
      },
      "outputs": [],
      "source": [
        " #FACTORIAL WITHOUT USING FUNCTION\n",
        " a=int(input('enter value'))\n",
        "def factorial(a):\n",
        "     result=1\n",
        "     for i in range(1,a+1):\n",
        "         result=result*i\n",
        "     return result\n",
        "factorial(a)\n"
      ]
    },
    {
      "cell_type": "code",
      "execution_count": null,
      "metadata": {
        "colab": {
          "background_save": true
        },
        "id": "tE_UKmn3fv2r"
      },
      "outputs": [],
      "source": [
        " # Finding a**2\n",
        " a=int(input('enter value'))\n",
        " def calc(a):\n",
        "     a=a**2\n",
        "     return a\n",
        " calc(a)"
      ]
    },
    {
      "cell_type": "code",
      "execution_count": null,
      "metadata": {
        "colab": {
          "background_save": true
        },
        "id": "y-BnZ1Olg5NO"
      },
      "outputs": [],
      "source": [
        "#x power y\n",
        " a=int(input('enter value'))\n",
        " b=int(input('enter value'))\n",
        " def calc(a,b):\n",
        "     c=a**b\n",
        "     return c\n",
        "\n",
        " calc(a,b)"
      ]
    },
    {
      "cell_type": "code",
      "execution_count": null,
      "metadata": {
        "colab": {
          "background_save": true
        },
        "id": "iJ56u1EphY9m"
      },
      "outputs": [],
      "source": [
        " #Multiplication Table\n",
        " a=int(input('enter value'))\n",
        " def Multiplication(a):\n",
        "     for i in range (1,11):\n",
        "         c=a*i\n",
        "         print(a,'*',i,'=',c)\n",
        " Multiplication(a)\n"
      ]
    },
    {
      "cell_type": "code",
      "execution_count": null,
      "metadata": {
        "colab": {
          "background_save": true
        },
        "id": "54utoCLki6W6"
      },
      "outputs": [],
      "source": [
        " # TOTAL NUMBER OF NATURALNUMBERS\n",
        " a=int(input('enter value of last number'))\n",
        " def total_natural_numbers(a):\n",
        "     d=0\n",
        "     for i in range(1,a+1):\n",
        "         print(i)\n",
        "         d+=i\n",
        "     return d\n",
        " total_natural_numbers(a)\n"
      ]
    },
    {
      "cell_type": "code",
      "execution_count": null,
      "metadata": {
        "colab": {
          "background_save": true
        },
        "id": "OA8agJ3TlT7J"
      },
      "outputs": [],
      "source": [
        " #FIBANOCCI\n",
        " a=int(input('enter intial value'))\n",
        " b=int(input('enter another initial value'))\n",
        " def fibinocci(a,b):\n",
        "\n",
        "     for i in range(4):\n",
        "          next=a+b\n",
        "          print(next)\n",
        "          a=b\n",
        "          b=next\n",
        "\n",
        " fibinocci(a,b)"
      ]
    },
    {
      "cell_type": "code",
      "execution_count": null,
      "metadata": {
        "id": "5V3LooROuSkA"
      },
      "outputs": [],
      "source": [
        "#CAPITAL\n",
        "a=input('enter the value in capital')\n",
        "def lower (a):\n",
        "     return a.lower()\n",
        "lower(a)"
      ]
    },
    {
      "cell_type": "code",
      "execution_count": null,
      "metadata": {
        "id": "indVU_I6ywMb"
      },
      "outputs": [],
      "source": [
        " #LCM AND GCD\n",
        "def lcm(a, b):\n",
        "    return abs(a * b) // gcd(a, b)\n",
        "\n",
        "def gcd(a, b):\n",
        "    while a>0:\n",
        "          b=a % b\n",
        "          a=b\n",
        "    return a\n",
        "\n",
        "# Example usage\n",
        "num1 = int(input('Enter the first number: '))\n",
        "num2 = int(input('Enter the second number: '))\n",
        "\n",
        "print(f\"GCD of {num1} and {num2} is {gcd(num1, num2)}\")\n",
        "print(f\"LCM of {num1} and {num2} is {lcm(num1, num2)}\")\n"
      ]
    },
    {
      "cell_type": "code",
      "execution_count": null,
      "metadata": {
        "colab": {
          "base_uri": "https://localhost:8080/",
          "height": 106
        },
        "id": "--xYTIILN7-c",
        "outputId": "f67d5ca8-4066-4334-844f-0456f38b3dfe"
      },
      "outputs": [
        {
          "ename": "SyntaxError",
          "evalue": "invalid syntax (<ipython-input-21-c63b5562bcd3>, line 10)",
          "output_type": "error",
          "traceback": [
            "\u001b[0;36m  File \u001b[0;32m\"<ipython-input-21-c63b5562bcd3>\"\u001b[0;36m, line \u001b[0;32m10\u001b[0m\n\u001b[0;31m    def prime range(q,z):\u001b[0m\n\u001b[0m              ^\u001b[0m\n\u001b[0;31mSyntaxError\u001b[0m\u001b[0;31m:\u001b[0m invalid syntax\n"
          ]
        }
      ],
      "source": [
        " #PRIME\n",
        " def prime(a):\n",
        "     for i in range(2,int(a*0.5)+1):\n",
        "         a%i==0\n",
        "         return False\n",
        "     return True\n",
        "     a=int(input('enter value'))\n",
        "     print(prime(a))\n",
        "\n",
        " def prime_range(q,z):\n",
        "    for i in range(q,z+1):\n",
        "\n",
        "        if prime(i):\n",
        "            print(i)\n",
        "        else:\n",
        "            pass\n",
        " q=int(input('enter value'))\n",
        " z=int(input('enter value'))\n",
        " prime range(q,z)\n",
        "\n"
      ]
    },
    {
      "cell_type": "code",
      "execution_count": null,
      "metadata": {
        "colab": {
          "base_uri": "https://localhost:8080/"
        },
        "id": "kZsbirRo5J3H",
        "outputId": "b598d2d9-90a2-45bc-ce50-b4291e4156bb"
      },
      "outputs": [
        {
          "name": "stdout",
          "output_type": "stream",
          "text": [
            "enter value4\n",
            "1\n",
            "2\n"
          ]
        }
      ],
      "source": [
        "#FACTOR\n",
        "a=int(input('enter value'))\n",
        "def fact(a):\n",
        "    for i in range(1,int(a*0.5)+1):\n",
        "        if a%i==0:\n",
        "            print(i)\n",
        "fact(a)\n",
        "\n"
      ]
    },
    {
      "cell_type": "code",
      "execution_count": null,
      "metadata": {
        "id": "2PQ88iFy59zv"
      },
      "outputs": [],
      "source": [
        "#PRIMEFACTOR\n",
        " def prime(a):\n",
        "     for i in range(2,int(a*0.5)+1):\n",
        "         if a%i==0:\n",
        "             return False\n",
        "     return True\n",
        "def prime_fact(b):\n",
        "    for i in range(2,int(*0.5)+1):\n",
        "        if b%i==0 and prime(i):\n",
        "            print(i)\n",
        "prime_fact(5)\n"
      ]
    },
    {
      "cell_type": "code",
      "execution_count": null,
      "metadata": {
        "colab": {
          "base_uri": "https://localhost:8080/"
        },
        "id": "qtoy9a7iAtUc",
        "outputId": "64a2f7b4-8f12-4f4d-c91a-bc81b78a090c"
      },
      "outputs": [
        {
          "name": "stdout",
          "output_type": "stream",
          "text": [
            "Enter binary value: 10001\n",
            "17\n",
            "2\n",
            "1\n",
            "1\n",
            "1\n"
          ]
        }
      ],
      "source": [
        "#BIN TO DEC,OCT\n",
        "def bin_to_dec(a):\n",
        "    for i in range(0, len(a), 8):\n",
        "        print(int(a[i:i+8], 2))\n",
        "\n",
        "def bin_to_oct(a):\n",
        "    a = a.zfill(len(a) + (3 - len(a) % 3) % 3)\n",
        "    for i in range(0, len(a), 3):\n",
        "        print(int(a[i:i+3], 2))\n",
        "\n",
        "def bin_to_hex(a):\n",
        "    a = a.zfill(len(a) + (4 - len(a) % 4) % 4)\n",
        "    for i in range(0, len(a), 4):\n",
        "        print(int(a[i:i+4], 2))\n",
        "\n",
        "a = input('Enter binary value: ')\n",
        "bin_to_dec(a)\n",
        "bin_to_oct(a)\n",
        "bin_to_hex(a)\n"
      ]
    },
    {
      "cell_type": "code",
      "execution_count": null,
      "metadata": {
        "colab": {
          "base_uri": "https://localhost:8080/"
        },
        "id": "_helL9pxvQ9m",
        "outputId": "7fadc8d4-12ba-41e9-af41-e89bd466e476"
      },
      "outputs": [
        {
          "name": "stdout",
          "output_type": "stream",
          "text": [
            "enter integer-4\n"
          ]
        },
        {
          "data": {
            "text/plain": [
              "2"
            ]
          },
          "execution_count": 15,
          "metadata": {},
          "output_type": "execute_result"
        }
      ],
      "source": [
        "#lengh of a numver\n",
        "def digit_length(a):\n",
        "  b=str(abs(a))\n",
        "  return len(b)\n",
        "digit_length(11)\n",
        "a=int(input('enter integer'))\n",
        "digit_length(11)"
      ]
    },
    {
      "cell_type": "code",
      "execution_count": null,
      "metadata": {
        "colab": {
          "base_uri": "https://localhost:8080/",
          "height": 53
        },
        "id": "SFsqF_PUzmd3",
        "outputId": "250296aa-646f-4219-d234-ce73546159cd"
      },
      "outputs": [
        {
          "name": "stdout",
          "output_type": "stream",
          "text": [
            "enter stringg\n"
          ]
        },
        {
          "data": {
            "application/vnd.google.colaboratory.intrinsic+json": {
              "type": "string"
            },
            "text/plain": [
              "'g'"
            ]
          },
          "execution_count": 20,
          "metadata": {},
          "output_type": "execute_result"
        }
      ],
      "source": [
        " a=input('enter string')\n",
        " def reversed_string(a):\n",
        "   b=a[::-1]\n",
        "   return b\n",
        " reversed_string(a)"
      ]
    },
    {
      "cell_type": "code",
      "execution_count": null,
      "metadata": {
        "id": "mpGLIYnB2cGe"
      },
      "outputs": [],
      "source": []
    },
    {
      "cell_type": "code",
      "execution_count": null,
      "metadata": {
        "id": "Nci6c1Sg27ok"
      },
      "outputs": [],
      "source": [
        " #checking a pilindrome or not\n",
        " def pilindrome(a):\n",
        "\n",
        "   reverse_number=0\n",
        "   while a>0:\n",
        "       b=a%10\n",
        "   reverse_number=reverse_number*10+b\n",
        "   a=a//10\n",
        " if pilindrome(11):\n",
        "   print('pilindrome')\n",
        " else:\n",
        "   print('not pilindrome')\n"
      ]
    },
    {
      "cell_type": "code",
      "execution_count": null,
      "metadata": {
        "colab": {
          "base_uri": "https://localhost:8080/"
        },
        "id": "eCLeDKRfB-5E",
        "outputId": "852389b4-16fb-4953-82ec-0f372edf9dc6"
      },
      "outputs": [
        {
          "output_type": "stream",
          "name": "stdout",
          "text": [
            "1\n"
          ]
        }
      ],
      "source": [
        "#sum of digits of a number\n",
        "def Digits_sum(a):\n",
        "    count = 0\n",
        "    while a > 0:\n",
        "        b = a % 10\n",
        "        count += b\n",
        "        a = a // 10\n",
        "    return count\n",
        "\n",
        "print(Digits_sum(10))\n"
      ]
    },
    {
      "cell_type": "code",
      "execution_count": null,
      "metadata": {
        "id": "_uP1p3nxE74F",
        "colab": {
          "base_uri": "https://localhost:8080/"
        },
        "outputId": "e63eee98-24fb-41c9-9d0f-a1a34d4e93ed"
      },
      "outputs": [
        {
          "name": "stdout",
          "output_type": "stream",
          "text": [
            "give length of array but atlest 3:4\n"
          ]
        },
        {
          "output_type": "execute_result",
          "data": {
            "text/plain": [
              "[0, 1, 1, 2]"
            ]
          },
          "metadata": {},
          "execution_count": 5
        }
      ],
      "source": [
        "# fibinocci array\n",
        "def array(b):\n",
        "    a=[0,1]\n",
        "    for i in range(2,b):\n",
        "        a.append(a[i-1]+a[i-2])\n",
        "    return a\n",
        "b=int(input('give length of array but atlest 3:'))\n",
        "array(b)"
      ]
    },
    {
      "cell_type": "code",
      "source": [
        "#largest number in array\n",
        "a=list(map(int,input('give elements of array by giving space:').split()))\n",
        "print(a)\n",
        "def largest_number(a):\n",
        "    for i in a:\n",
        "        b=0\n",
        "        if i>b:\n",
        "           b=i\n",
        "    return b\n",
        "largest_number(a)\n",
        "\n",
        "\n"
      ],
      "metadata": {
        "colab": {
          "base_uri": "https://localhost:8080/"
        },
        "id": "I2aSQT8HfK7y",
        "outputId": "aa031118-77af-45be-8d90-e70c81e5cef5"
      },
      "execution_count": null,
      "outputs": [
        {
          "output_type": "stream",
          "name": "stdout",
          "text": [
            "give elements of array by giving space:1 3 4 7 \n",
            "[1, 3, 4, 7]\n"
          ]
        },
        {
          "output_type": "execute_result",
          "data": {
            "text/plain": [
              "7"
            ]
          },
          "metadata": {},
          "execution_count": 14
        }
      ]
    },
    {
      "cell_type": "code",
      "source": [
        "# least number in an array\n",
        "a=list(map(int,input('give array by spaces:').split()))\n",
        "def smallest(a):\n",
        "    b=999999\n",
        "    for i in  a:\n",
        "        if i<b:\n",
        "            b=i\n",
        "    return b\n",
        "smallest(a)\n",
        "\n"
      ],
      "metadata": {
        "colab": {
          "base_uri": "https://localhost:8080/"
        },
        "id": "REmVqgB6hPa3",
        "outputId": "abf1c8bc-29a9-4bee-dfbd-c59c220c02b4"
      },
      "execution_count": null,
      "outputs": [
        {
          "name": "stdout",
          "output_type": "stream",
          "text": [
            "give array by spaces:1 4 6 8\n"
          ]
        },
        {
          "output_type": "execute_result",
          "data": {
            "text/plain": [
              "1"
            ]
          },
          "metadata": {},
          "execution_count": 17
        }
      ]
    },
    {
      "cell_type": "code",
      "source": [
        "# reversing the elements in a array\n",
        "a=int(input('enter number of elements'))\n",
        "c=[]\n",
        "for i in range(a):\n",
        "    b=int(input('enter the element:'))\n",
        "    c.append(b)\n",
        "print(c)\n",
        "def reverse_array(c):\n",
        "\n",
        "    f=0\n",
        "    l=len(c)-1\n",
        "    while f<l:\n",
        "      c[f],c[l]=c[l],c[f]\n",
        "      f+=1\n",
        "      l-=1\n",
        "    return c\n",
        "reverse_array(c)\n"
      ],
      "metadata": {
        "colab": {
          "base_uri": "https://localhost:8080/"
        },
        "id": "PTB5_X9wlCb5",
        "outputId": "75c94210-0f66-4bcf-e8b7-07244b46ffc9"
      },
      "execution_count": null,
      "outputs": [
        {
          "output_type": "stream",
          "name": "stdout",
          "text": [
            "enter number of elements2\n",
            "enter the element:1\n",
            "enter the element:2\n",
            "[1, 2]\n"
          ]
        },
        {
          "output_type": "execute_result",
          "data": {
            "text/plain": [
              "[2, 1]"
            ]
          },
          "metadata": {},
          "execution_count": 41
        }
      ]
    },
    {
      "cell_type": "code",
      "source": [
        "#insert an element in an array\n",
        "a=int(input('enter element:'))\n",
        "index=(int(input('enter the index of element:')))\n",
        "array=[]\n",
        "def insert(index,a):\n",
        "\n",
        "   array.insert(index,a)\n",
        "   return array\n",
        "insert(index,a)\n",
        "print(array)\n"
      ],
      "metadata": {
        "id": "HsIUafZYmM6R",
        "colab": {
          "base_uri": "https://localhost:8080/"
        },
        "outputId": "dc9acf6b-eb80-45ca-b215-7461e26084da"
      },
      "execution_count": null,
      "outputs": [
        {
          "output_type": "stream",
          "name": "stdout",
          "text": [
            "enter element:1\n",
            "enter the index of element:4\n",
            "[1]\n"
          ]
        }
      ]
    },
    {
      "cell_type": "code",
      "source": [
        "#insert an element in an array\n",
        "a=int(input('enter element:'))\n",
        "\n",
        "array=[1,3,4]\n",
        "def remove(a):\n",
        "\n",
        "   array.remove(a)\n",
        "   return array\n",
        "remove(a)\n",
        "print(array)\n"
      ],
      "metadata": {
        "colab": {
          "base_uri": "https://localhost:8080/"
        },
        "id": "PdikxpLJ2f7N",
        "outputId": "3b52c549-5278-4b6e-b401-66f32643b227"
      },
      "execution_count": null,
      "outputs": [
        {
          "output_type": "stream",
          "name": "stdout",
          "text": [
            "enter element:1\n",
            "[3, 4]\n"
          ]
        }
      ]
    },
    {
      "cell_type": "code",
      "source": [
        "#Transpose matrics\n",
        "def Traspose_matrix(matrix):\n",
        "    transpose=[]\n",
        "    for j in range(len(matrix[0])):\n",
        "        row=[]\n",
        "        for i in range(len(matrix)):\n",
        "            row.append(matrix[i][j])\n",
        "        transpose.append(row)\n",
        "    return transpose\n",
        "\n",
        "\n",
        "first_row=list(map(int,input('enter first row with   spaces:').split()))\n",
        "second_row=list(map(int,input('enter second row with   spaces:').split()))\n",
        "matrix=[first_row,second_row]\n",
        "print(matrix)\n",
        "Traspose_matrix(matrix)"
      ],
      "metadata": {
        "colab": {
          "base_uri": "https://localhost:8080/"
        },
        "id": "MQ0x4OA72zBT",
        "outputId": "6355421a-af9e-43ec-f19e-5b88d2045331"
      },
      "execution_count": null,
      "outputs": [
        {
          "output_type": "stream",
          "name": "stdout",
          "text": [
            "enter first row with   spaces:1 2\n",
            "enter second row with   spaces:4 8\n",
            "[[1, 2], [4, 8]]\n"
          ]
        },
        {
          "output_type": "execute_result",
          "data": {
            "text/plain": [
              "[[1, 4], [2, 8]]"
            ]
          },
          "metadata": {},
          "execution_count": 67
        }
      ]
    },
    {
      "cell_type": "code",
      "source": [
        " # duplicate removal\n",
        " a=list(map(int,input('enter the list with spaces').split()))\n",
        "\n",
        " def duplicate_removal(a):\n",
        "     b=[]\n",
        "     for i in a:\n",
        "\n",
        "         if i not in b:\n",
        "            b.append(i)\n",
        "     return b\n",
        " print(f'original list{a}')\n",
        " print(f'non duplicatelist{duplicate_removal(a)}')\n"
      ],
      "metadata": {
        "colab": {
          "base_uri": "https://localhost:8080/"
        },
        "id": "4wVLMrfg9skE",
        "outputId": "1a6d774a-fdf7-466e-92c3-41236a1622a0"
      },
      "execution_count": null,
      "outputs": [
        {
          "output_type": "stream",
          "name": "stdout",
          "text": [
            "enter the list with spaces1 4 4\n",
            "original list[1, 4, 4]\n",
            "non duplicatelist[1, 4]\n"
          ]
        }
      ]
    },
    {
      "cell_type": "code",
      "source": [
        "#linear search of an array\n",
        " a=list(map(int,input('enter the list with spaces').split()))\n",
        " target=int(input('enter target'))\n",
        "\n",
        " def linear_search(target):\n",
        "     for index,i in enumerate(a):\n",
        "       if i==target:\n",
        "           print(f'i found {i} at index {index}')\n",
        "       else('not found the target')\n",
        " linear_search(target)"
      ],
      "metadata": {
        "colab": {
          "base_uri": "https://localhost:8080/"
        },
        "id": "yTTKGyAAA48K",
        "outputId": "7e5ff135-14e6-41a8-f321-afdf9a5c1661"
      },
      "execution_count": null,
      "outputs": [
        {
          "output_type": "stream",
          "name": "stdout",
          "text": [
            "enter the list with spaces1 4 6 8\n",
            "enter target8\n",
            "i found8 at index 3\n"
          ]
        }
      ]
    },
    {
      "cell_type": "code",
      "source": [
        " #binary search of an array\n",
        " a=list(map(int,input('enter the list with spaces: ').split()))\n",
        " a.sort()\n",
        " target=int(input('enter target: '))\n",
        " def binarysearch(target):\n",
        "     i=0\n",
        "     l=len(a)-1\n",
        "\n",
        "     while i<=l:\n",
        "         mid=(i+l)//2\n",
        "         if a[mid]==target:\n",
        "             return mid\n",
        "         elif a[mid]>target:\n",
        "\n",
        "\n",
        "             l=mid-1\n",
        "         else:\n",
        "           i=mid+1\n",
        "     return -1\n",
        " result=binarysearch(target)\n",
        " if result !=-1:\n",
        "     print(f'target found at{result}')\n",
        " else:\n",
        "     print('target not found')\n"
      ],
      "metadata": {
        "colab": {
          "base_uri": "https://localhost:8080/"
        },
        "id": "oscnwq9uFDCR",
        "outputId": "12e892e7-e7dc-4b93-ff31-9b9a2ca02f65"
      },
      "execution_count": null,
      "outputs": [
        {
          "output_type": "stream",
          "name": "stdout",
          "text": [
            "enter the list with spaces: 1 2 3 4\n",
            "enter target: 1\n",
            "target found at0\n"
          ]
        }
      ]
    },
    {
      "cell_type": "code",
      "source": [
        "# array splitting\n",
        "a=[1,2,3,4,5,6,7]\n",
        "def array_split(a):\n",
        "    l=len(a)-1\n",
        "    mid=len(a)//2\n",
        "    print('first_half=a[0:mid]')\n",
        "    print('second_half=a[:l]')"
      ],
      "metadata": {
        "id": "wvNLEZ0GIbi0"
      },
      "execution_count": null,
      "outputs": []
    },
    {
      "cell_type": "code",
      "source": [
        "# matrix_addition\n",
        "a = [[1, 2], [3, 4]]\n",
        "b = [[5, 6], [7, 8]]\n",
        "\n",
        "\n",
        "def matrix_addition(a, b):\n",
        "    addition_matrix = []\n",
        "\n",
        "    if len(a) == len(b) and len(a[0]) == len(b[0]):\n",
        "        for i in range(len(a)):\n",
        "            row = []\n",
        "            for j in range(len(a[0])):\n",
        "                row.append(a[i][j] + b[i][j])\n",
        "            addition_matrix.append(row)\n",
        "\n",
        "        return addition_matrix\n",
        "\n",
        "\n",
        "print(matrix_addition(a, b))\n",
        "\n",
        "\n",
        "\n",
        "\n"
      ],
      "metadata": {
        "colab": {
          "base_uri": "https://localhost:8080/"
        },
        "id": "qBNv9Mfzf-DA",
        "outputId": "f2537e3e-515e-48e8-86ab-e095ecf89f39"
      },
      "execution_count": null,
      "outputs": [
        {
          "output_type": "stream",
          "name": "stdout",
          "text": [
            "[[6, 8], [10, 12]]\n"
          ]
        }
      ]
    },
    {
      "cell_type": "code",
      "source": [
        "#sorting using array\n",
        "def sort(a):\n",
        "    for i in range(len(a)-1):\n",
        "        for i in range(len(a)-1-i):\n",
        "            if a[i]>a[i+1]:\n",
        "                a[i],a[i+1]=a[i+1],a[i]\n",
        "    return a\n",
        "print(sort(a))\n",
        "a=[1,2,8,4]\n"
      ],
      "metadata": {
        "colab": {
          "base_uri": "https://localhost:8080/"
        },
        "id": "xnvJ5Xfkim8U",
        "outputId": "9d1022fe-62f4-4087-dd2d-a51186c736a9"
      },
      "execution_count": null,
      "outputs": [
        {
          "output_type": "stream",
          "name": "stdout",
          "text": [
            "[1, 2, 4, 8]\n"
          ]
        }
      ]
    },
    {
      "cell_type": "code",
      "source": [
        " # factorial using recursion\n",
        " def factorial(a):\n",
        "     if a==0 or a==1:\n",
        "         return 1\n",
        "\n",
        "     else:\n",
        "         return a*factorial(a-1)\n",
        " print(factorial(4))"
      ],
      "metadata": {
        "id": "Y7jE2tYVmUQx",
        "colab": {
          "base_uri": "https://localhost:8080/"
        },
        "outputId": "be2b1669-75e8-450b-d878-16de4fc17606"
      },
      "execution_count": null,
      "outputs": [
        {
          "output_type": "stream",
          "name": "stdout",
          "text": [
            "24\n"
          ]
        }
      ]
    },
    {
      "cell_type": "code",
      "source": [
        " # fibinocci using recursion\n",
        " def fibinocci(a):\n",
        "     if a<=1:\n",
        "        return a\n",
        "     else:\n",
        "        return fibinocci(a-1)+fibinocci(a-2)\n",
        " for i in range(10):\n",
        "     print(fibinocci(i))"
      ],
      "metadata": {
        "colab": {
          "base_uri": "https://localhost:8080/"
        },
        "id": "ISVOWWMiCHqY",
        "outputId": "f026be6d-ea11-41e0-ee5e-0b313ded2b6e"
      },
      "execution_count": null,
      "outputs": [
        {
          "output_type": "stream",
          "name": "stdout",
          "text": [
            "0\n",
            "1\n",
            "1\n",
            "2\n",
            "3\n",
            "5\n",
            "8\n",
            "13\n",
            "21\n",
            "34\n"
          ]
        }
      ]
    },
    {
      "cell_type": "code",
      "source": [
        " # sum of all numbers using recursion\n",
        " def sum_num(a,n):\n",
        "     if n==0:\n",
        "         return 0\n",
        "     else:\n",
        "         return a[n-1]+sum_num(a,n-1)\n",
        "\n",
        " a=[1,4,8,8]\n",
        " n=len(a)\n",
        " print(sum_num(a,len(a)))\n"
      ],
      "metadata": {
        "colab": {
          "base_uri": "https://localhost:8080/"
        },
        "id": "tNmvaY_NFtRX",
        "outputId": "2bf08c20-08ba-4a34-8c84-01c7e87f25e6"
      },
      "execution_count": null,
      "outputs": [
        {
          "output_type": "stream",
          "name": "stdout",
          "text": [
            "21\n"
          ]
        }
      ]
    },
    {
      "cell_type": "code",
      "source": [
        "# reverse the sentence\n",
        "def reverse_element(a):\n",
        "    word=a.split()\n",
        "    if len(word)==1:\n",
        "        return word[0]\n",
        "    else:\n",
        "        return  reverse_element(' '.join(word[1:]))+' '+word[0]\n",
        "a='gov dhan'\n",
        "reverse_element(a)\n",
        "\n"
      ],
      "metadata": {
        "id": "5X8Abo5lL2Yw",
        "colab": {
          "base_uri": "https://localhost:8080/",
          "height": 36
        },
        "outputId": "e0eebad2-85ae-4a82-dda7-9b2e9b3a535e"
      },
      "execution_count": null,
      "outputs": [
        {
          "output_type": "execute_result",
          "data": {
            "text/plain": [
              "'dhan gov'"
            ],
            "application/vnd.google.colaboratory.intrinsic+json": {
              "type": "string"
            }
          },
          "metadata": {},
          "execution_count": 7
        }
      ]
    },
    {
      "cell_type": "code",
      "source": [
        " #power using recursion\n",
        " def power(a,b):\n",
        "     if b==0:\n",
        "         return 1\n",
        "     else:\n",
        "         return a*power(a,b-1)\n",
        " print(power(2,3))\n"
      ],
      "metadata": {
        "colab": {
          "base_uri": "https://localhost:8080/"
        },
        "id": "qLVMSvU52Nuj",
        "outputId": "36e170b6-94f2-423b-aef1-f6fb74b11512"
      },
      "execution_count": null,
      "outputs": [
        {
          "output_type": "stream",
          "name": "stdout",
          "text": [
            "8\n"
          ]
        }
      ]
    },
    {
      "cell_type": "code",
      "source": [
        " #hanoi problem using recursion\n",
        " def hanoi(n,source,d,a):\n",
        "     if n==1:\n",
        "         print(f'disk1 from{source} to {d}')\n",
        "         return\n",
        "     hanoi(n-1,source,a,d)\n",
        "     print(f'disk {n} from{source}to{d}')\n",
        "     hanoi(n-1,a,d,source)\n",
        " hanoi(4,'A','C','B')"
      ],
      "metadata": {
        "colab": {
          "base_uri": "https://localhost:8080/"
        },
        "id": "kF7zUQb35-OR",
        "outputId": "4288ca9b-a128-4bb1-b625-740c6df87319"
      },
      "execution_count": null,
      "outputs": [
        {
          "output_type": "stream",
          "name": "stdout",
          "text": [
            "disk1 fromA to B\n",
            "disk 2 fromAtoC\n",
            "disk1 fromB to C\n",
            "disk 3 fromAtoB\n",
            "disk1 fromC to A\n",
            "disk 2 fromCtoB\n",
            "disk1 fromA to B\n",
            "disk 4 fromAtoC\n",
            "disk1 fromB to C\n",
            "disk 2 fromBtoA\n",
            "disk1 fromC to A\n",
            "disk 3 fromBtoC\n",
            "disk1 fromA to B\n",
            "disk 2 fromAtoC\n",
            "disk1 fromB to C\n"
          ]
        }
      ]
    },
    {
      "cell_type": "code",
      "source": [
        "#finding exponent\n",
        "def exponent(a,b):\n",
        "    if b==1:\n",
        "        return 0\n",
        "    else:\n",
        "        return 1+exponent(a,b//a)\n",
        "exponent(2,64)"
      ],
      "metadata": {
        "id": "UoMfnKRzGeV0",
        "colab": {
          "base_uri": "https://localhost:8080/"
        },
        "outputId": "84574724-a4ad-4408-caca-d2f252e5f163"
      },
      "execution_count": null,
      "outputs": [
        {
          "output_type": "execute_result",
          "data": {
            "text/plain": [
              "6"
            ]
          },
          "metadata": {},
          "execution_count": 22
        }
      ]
    },
    {
      "cell_type": "code",
      "source": [
        "#finding gcd\n",
        "def Gcd(a,b):\n",
        "    if b==0:\n",
        "         return a\n",
        "    else:\n",
        "        return Gcd(b,a%b)\n",
        "print(Gcd(1,2))\n"
      ],
      "metadata": {
        "colab": {
          "base_uri": "https://localhost:8080/"
        },
        "id": "PYK0nhovMGwd",
        "outputId": "a8fda6fe-cd42-4c87-f43e-419b7c216c8a"
      },
      "execution_count": null,
      "outputs": [
        {
          "output_type": "stream",
          "name": "stdout",
          "text": [
            "1\n"
          ]
        }
      ]
    },
    {
      "cell_type": "code",
      "source": [
        "#counting blank,tab,newline in a string\n",
        "print('give double enter to stop para')\n",
        "def count():\n",
        "    blank=0\n",
        "    newline=0\n",
        "    tab=0\n",
        "    while True:\n",
        "        line=input('enter the line')\n",
        "        if line==\"\":\n",
        "            break\n",
        "        newline +=1\n",
        "\n",
        "        tab+=line.count('\\t')\n",
        "        blank=line.count(' ')\n",
        "\n",
        "    return blank,newline,tab\n",
        "count()\n",
        "\n",
        "\n",
        "\n"
      ],
      "metadata": {
        "colab": {
          "base_uri": "https://localhost:8080/"
        },
        "id": "6EpydiB-O796",
        "outputId": "218de830-58fd-4bfc-9f4d-86fb52980614"
      },
      "execution_count": null,
      "outputs": [
        {
          "name": "stdout",
          "output_type": "stream",
          "text": [
            "give double enter to stop para\n",
            "enter the linehi\n",
            "enter the line\n"
          ]
        },
        {
          "output_type": "execute_result",
          "data": {
            "text/plain": [
              "(0, 1, 0)"
            ]
          },
          "metadata": {},
          "execution_count": 33
        }
      ]
    },
    {
      "cell_type": "code",
      "source": [
        "def check_pilindrome(a):\n",
        "    i=0\n",
        "    l=len(a)-1\n",
        "    while i<l:\n",
        "        if a[i]!=a[l]:\n",
        "            print('false')\n",
        "            return\n",
        "\n",
        "        i+=1\n",
        "        l-=1\n",
        "    print('true')\n",
        "a='TaaT'\n",
        "check_pilindrome(a)\n",
        "\n",
        "\n",
        "\n"
      ],
      "metadata": {
        "colab": {
          "base_uri": "https://localhost:8080/"
        },
        "id": "BQpzA5TyY_Q8",
        "outputId": "a99c6188-06b9-4948-8127-6e5e1510d519"
      },
      "execution_count": null,
      "outputs": [
        {
          "output_type": "stream",
          "name": "stdout",
          "text": [
            "true\n"
          ]
        }
      ]
    },
    {
      "cell_type": "code",
      "source": [
        "#name to ascii value\n",
        "def name_to_ascii(name):\n",
        "    for char in name:\n",
        "        print(ord(char),end=' ')\n",
        "name_to_ascii('name')"
      ],
      "metadata": {
        "colab": {
          "base_uri": "https://localhost:8080/"
        },
        "id": "qtJx2xAQhoOB",
        "outputId": "0a7d0807-b406-4b39-c5f5-284775255230"
      },
      "execution_count": null,
      "outputs": [
        {
          "output_type": "stream",
          "name": "stdout",
          "text": [
            "110 97 109 101 "
          ]
        }
      ]
    },
    {
      "cell_type": "code",
      "source": [
        "a='gova'\n",
        "def string_length(a):\n",
        "    count=0\n",
        "    while a[count:]:\n",
        "         count+=1\n",
        "    return count\n",
        "string_length('gov')"
      ],
      "metadata": {
        "colab": {
          "base_uri": "https://localhost:8080/"
        },
        "id": "67NKEG5ckK2L",
        "outputId": "cd991762-90aa-4a6e-e54a-b809f2109796"
      },
      "execution_count": null,
      "outputs": [
        {
          "output_type": "execute_result",
          "data": {
            "text/plain": [
              "3"
            ]
          },
          "metadata": {},
          "execution_count": 56
        }
      ]
    },
    {
      "cell_type": "code",
      "source": [
        " def compare(a,b):\n",
        "    if a==b:\n",
        "        print('they are same')\n",
        "    else:\n",
        "        print('they are not same')\n",
        " compare('yh','yh')"
      ],
      "metadata": {
        "colab": {
          "base_uri": "https://localhost:8080/"
        },
        "id": "2AaVeD-Mmsu-",
        "outputId": "42cca0f8-4302-4a2f-c4ee-af32a1f43801"
      },
      "execution_count": null,
      "outputs": [
        {
          "output_type": "stream",
          "name": "stdout",
          "text": [
            "they are same\n"
          ]
        }
      ]
    },
    {
      "cell_type": "code",
      "source": [
        "#copying string\n",
        "def copy(a):\n",
        "    b=[]\n",
        "    for char in a:\n",
        "       b.append(char)\n",
        "    return ''.join(b)\n",
        "copy('hello')"
      ],
      "metadata": {
        "colab": {
          "base_uri": "https://localhost:8080/",
          "height": 36
        },
        "id": "KdZgVBjonsS0",
        "outputId": "d0adfbcd-4ace-4a6b-b948-cd539504df04"
      },
      "execution_count": null,
      "outputs": [
        {
          "output_type": "execute_result",
          "data": {
            "text/plain": [
              "'hello'"
            ],
            "application/vnd.google.colaboratory.intrinsic+json": {
              "type": "string"
            }
          },
          "metadata": {},
          "execution_count": 69
        }
      ]
    },
    {
      "cell_type": "code",
      "source": [
        "#string concatination\n",
        "def concat(a,b):\n",
        "  result=\"\"\n",
        "  for char in a:\n",
        "    result+=char\n",
        "  for char in b:\n",
        "    result+= char\n",
        "  return result\n",
        "\n",
        "a='hello'\n",
        "b='word'\n",
        "concat(a,b)"
      ],
      "metadata": {
        "colab": {
          "base_uri": "https://localhost:8080/",
          "height": 36
        },
        "id": "b3SBd1QZoxEO",
        "outputId": "97201d87-b8ff-4335-f456-d0513da37e99"
      },
      "execution_count": null,
      "outputs": [
        {
          "output_type": "execute_result",
          "data": {
            "text/plain": [
              "'helloword'"
            ],
            "application/vnd.google.colaboratory.intrinsic+json": {
              "type": "string"
            }
          },
          "metadata": {},
          "execution_count": 76
        }
      ]
    },
    {
      "cell_type": "code",
      "source": [
        "import re\n",
        "def pattern(text):\n",
        "    return re.sub(r'\\d+','',text)\n",
        "\n",
        "text='hello 1 2 3'\n",
        "pattern(text)"
      ],
      "metadata": {
        "id": "PdLWhy6iq9C0",
        "colab": {
          "base_uri": "https://localhost:8080/",
          "height": 36
        },
        "outputId": "15adda8e-b013-4710-cb3d-bd2e7db97844"
      },
      "execution_count": null,
      "outputs": [
        {
          "output_type": "execute_result",
          "data": {
            "text/plain": [
              "'hello   '"
            ],
            "application/vnd.google.colaboratory.intrinsic+json": {
              "type": "string"
            }
          },
          "metadata": {},
          "execution_count": 4
        }
      ]
    },
    {
      "cell_type": "code",
      "source": [
        "def vowel(a):\n",
        "    a.lower()\n",
        "    for letter in a:\n",
        "        if letter in 'aeiou':\n",
        "            print(letter)\n",
        "text='vowel'\n",
        "vowel(text)\n",
        "\n",
        "\n"
      ],
      "metadata": {
        "colab": {
          "base_uri": "https://localhost:8080/"
        },
        "id": "QLF4DMSPohvq",
        "outputId": "18dcb0c0-8973-4ab0-c965-17a54d42677c"
      },
      "execution_count": null,
      "outputs": [
        {
          "output_type": "stream",
          "name": "stdout",
          "text": [
            "o\n",
            "e\n"
          ]
        }
      ]
    },
    {
      "cell_type": "code",
      "source": [
        "def sort_string(a):\n",
        "    a=list(a)\n",
        "    for i in range(len(a)):\n",
        "        for i in range(len(a)-i-1):\n",
        "            if a[i]>a[i+1]:\n",
        "                a[i],a[i+1]=a[i+1],a[i]\n",
        "    return a\n",
        "\n",
        "string='hello doc'\n",
        "sort_string(string)\n",
        "\n"
      ],
      "metadata": {
        "colab": {
          "base_uri": "https://localhost:8080/"
        },
        "id": "GjrvjPtGqu5G",
        "outputId": "cba865ab-6226-4879-897d-a67ec367b306"
      },
      "execution_count": null,
      "outputs": [
        {
          "output_type": "execute_result",
          "data": {
            "text/plain": [
              "[' ', 'c', 'd', 'e', 'h', 'l', 'l', 'o', 'o']"
            ]
          },
          "metadata": {},
          "execution_count": 14
        }
      ]
    },
    {
      "cell_type": "code",
      "source": [
        " def sub_strsearch(text,target):\n",
        "     index =text.find(target)\n",
        "     return index\n",
        " text='hai ov'\n",
        " target='ov'\n",
        " sub_strsearch(text,target)\n"
      ],
      "metadata": {
        "colab": {
          "base_uri": "https://localhost:8080/"
        },
        "id": "wPlD4mxTtJzi",
        "outputId": "03561e2d-6cfd-4acc-b02a-17d113897de2"
      },
      "execution_count": null,
      "outputs": [
        {
          "output_type": "execute_result",
          "data": {
            "text/plain": [
              "4"
            ]
          },
          "metadata": {},
          "execution_count": 22
        }
      ]
    },
    {
      "cell_type": "code",
      "source": [
        " def freq_char(a,target):\n",
        "     list=0\n",
        "     for char in a:\n",
        "         if char==target:\n",
        "             list+=1\n",
        "     return list\n",
        " text='oho raje'\n",
        " freq_char(text,'o')"
      ],
      "metadata": {
        "colab": {
          "base_uri": "https://localhost:8080/"
        },
        "id": "5TzddN9pvaji",
        "outputId": "41daeeae-adca-4b72-ada9-6d45beb6b2b8"
      },
      "execution_count": null,
      "outputs": [
        {
          "output_type": "execute_result",
          "data": {
            "text/plain": [
              "2"
            ]
          },
          "metadata": {},
          "execution_count": 24
        }
      ]
    },
    {
      "cell_type": "code",
      "source": [
        "def alpha(a):\n",
        "    list=[]\n",
        "    for i in a:\n",
        "        if i.isalpha():\n",
        "            list.append(i)\n",
        "    print(''.join(list))\n",
        "alpha('gello!1248')\n",
        "\n",
        "\n"
      ],
      "metadata": {
        "colab": {
          "base_uri": "https://localhost:8080/"
        },
        "id": "GK4mPXVS2mSr",
        "outputId": "625de8ec-3b18-4067-f83f-143ea3412f8d"
      },
      "execution_count": null,
      "outputs": [
        {
          "output_type": "stream",
          "name": "stdout",
          "text": [
            "gello\n"
          ]
        }
      ]
    },
    {
      "cell_type": "code",
      "source": [
        " #reverse a sring\n",
        " def back(a):\n",
        "      a=list(a)\n",
        "      f=a[0]\n",
        "      l=a[len(a)-1]\n",
        "      while f<l:\n",
        "          a[f],a[l]==a[l],a[f]\n",
        "          a+=1\n",
        "          l-=1\n",
        "      print(''.join(a))\n",
        " a=\"gova\"\n",
        " back(a)\n"
      ],
      "metadata": {
        "colab": {
          "base_uri": "https://localhost:8080/"
        },
        "id": "7dP883r03Zxh",
        "outputId": "f6e6a843-54dc-40cc-b583-e0fac6adda0d"
      },
      "execution_count": null,
      "outputs": [
        {
          "output_type": "stream",
          "name": "stdout",
          "text": [
            "gova\n"
          ]
        }
      ]
    },
    {
      "cell_type": "code",
      "source": [
        " #writing on file\n",
        " with open('file.txt','w') as file:\n",
        "      print(\"hello\\n how \")\n",
        "      print('hai')\n",
        " with open('file.txt','r')as file:\n",
        "      content=file.readlines()\n",
        "      print('content')\n",
        " for line in content:\n",
        "     print(line.strip())\n"
      ],
      "metadata": {
        "colab": {
          "base_uri": "https://localhost:8080/"
        },
        "id": "SVWk7Jgy5TJZ",
        "outputId": "fb4dd6fa-9ca3-4764-9267-4e7b968d7fc3"
      },
      "execution_count": null,
      "outputs": [
        {
          "output_type": "stream",
          "name": "stdout",
          "text": [
            "hello\n",
            " how \n",
            "hai\n",
            "content\n"
          ]
        }
      ]
    },
    {
      "cell_type": "code",
      "source": [
        "#employee file\n",
        "def addemployee(name,id):\n",
        "    with open('employee.txt','w') as file:\n",
        "        print(f'name:{name},\\n id{id}')\n",
        "def display():\n",
        "    with open('employee.txt','r') as file:\n",
        "        content=file.readlines()\n",
        "        for line in content:\n",
        "            print(line.strip())\n",
        "addemployee('prust',78)\n",
        "display()"
      ],
      "metadata": {
        "colab": {
          "base_uri": "https://localhost:8080/"
        },
        "id": "B7qzmEsoDXC5",
        "outputId": "5146b59d-e349-45d0-b573-a58cbf098039"
      },
      "execution_count": null,
      "outputs": [
        {
          "output_type": "stream",
          "name": "stdout",
          "text": [
            "name:prust,\n",
            " id78\n"
          ]
        }
      ]
    },
    {
      "cell_type": "code",
      "source": [
        "def copy(file1,file2):\n",
        "    with open(file1,'rb') as source_file:\n",
        "        content=source_file.read()\n",
        "    with open(file2,'wb') as target_file:\n",
        "        target_file.write(content)\n",
        "        return f\"File copied from '{file1}' to '{file2}'.\"\n",
        "copy('file.txt','employee2.txt')\n"
      ],
      "metadata": {
        "colab": {
          "base_uri": "https://localhost:8080/",
          "height": 36
        },
        "id": "Lk8yLXefFqc0",
        "outputId": "f9188518-92a8-4410-8f0a-2684aaf2a577"
      },
      "execution_count": null,
      "outputs": [
        {
          "output_type": "execute_result",
          "data": {
            "text/plain": [
              "\"File copied from 'file.txt' to 'employee2.txt'.\""
            ],
            "application/vnd.google.colaboratory.intrinsic+json": {
              "type": "string"
            }
          },
          "metadata": {},
          "execution_count": 64
        }
      ]
    },
    {
      "cell_type": "code",
      "source": [
        "input_file_pat='file.txt'\n",
        "output_file_pat='file1.txt'\n",
        "with open(input_file_pat ,'r') as source:\n",
        "     content =source.read ()\n",
        "content=content.upper()\n",
        "with open(output_file_pat,'w') as dest:\n",
        "     dest.write(content)"
      ],
      "metadata": {
        "id": "TnCesMiSI2q0"
      },
      "execution_count": null,
      "outputs": []
    },
    {
      "cell_type": "code",
      "source": [
        "e=[]\n",
        "od=[]\n",
        "with open('file.txt','r') as file:\n",
        "    num_str = file.read().split(',')  # Split numbers as strings\n",
        "    num = [int(x) for x in num_str]\n",
        "for i in num:\n",
        "    if i%2==1:\n",
        "        od.append(i)\n",
        "    else:\n",
        "        e.append(i)\n",
        "with open('file1.txt','w') as even_f:\n",
        "     even_f.write(','.join(map(str, od)))\n",
        "with open('file2.txt','w') as odd_f:\n",
        "     odd_f.write(','.join(map(str,e)))"
      ],
      "metadata": {
        "id": "gKapOUsnsrsQ"
      },
      "execution_count": null,
      "outputs": []
    },
    {
      "cell_type": "code",
      "source": [
        "with open('file.txt','r') as file:\n",
        "     line=file.readline()\n",
        "for l in line:\n",
        "   print(l.strip())"
      ],
      "metadata": {
        "colab": {
          "base_uri": "https://localhost:8080/"
        },
        "id": "wQUDAW3V3FTK",
        "outputId": "22f1681e-57f8-426f-96e9-f77ad6d58de4"
      },
      "execution_count": null,
      "outputs": [
        {
          "output_type": "stream",
          "name": "stdout",
          "text": [
            "w\n",
            "r\n",
            "i\n",
            "t\n",
            "e\n",
            "\n",
            "c\n",
            "o\n",
            "d\n",
            "e\n",
            "\n"
          ]
        }
      ]
    },
    {
      "cell_type": "code",
      "source": [],
      "metadata": {
        "id": "2dxIkDJ64tI-"
      },
      "execution_count": null,
      "outputs": []
    }
  ],
  "metadata": {
    "colab": {
      "provenance": []
    },
    "kernelspec": {
      "display_name": "Python 3",
      "name": "python3"
    },
    "language_info": {
      "name": "python"
    }
  },
  "nbformat": 4,
  "nbformat_minor": 0
}